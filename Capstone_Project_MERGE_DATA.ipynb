{
 "cells": [
  {
   "cell_type": "markdown",
   "metadata": {},
   "source": [
    "# Capstone Merge Data"
   ]
  },
  {
   "cell_type": "code",
   "execution_count": 35,
   "metadata": {},
   "outputs": [],
   "source": [
    "import pandas as pd\n",
    "import numpy as np"
   ]
  },
  {
   "cell_type": "code",
   "execution_count": 36,
   "metadata": {},
   "outputs": [],
   "source": [
    "# Reading Combined(concatinated) Neighbourhood Data in Part 1"
   ]
  },
  {
   "cell_type": "code",
   "execution_count": 37,
   "metadata": {},
   "outputs": [],
   "source": [
    "LLD_df = pd.read_csv('CS_combinedNeighbourhoodLatLongData.csv')\n",
    "CD_df = pd.read_csv('CS_CrimeData.csv')\n",
    "ED_df = pd.read_csv('CS_EmploymentData.csv')\n",
    "PMD_df = pd.read_csv('CS_Population_Multiple_Data.csv')\n",
    "RD_df =  pd.read_csv('CS_RecreationData.csv')"
   ]
  },
  {
   "cell_type": "code",
   "execution_count": 38,
   "metadata": {},
   "outputs": [
    {
     "data": {
      "text/html": [
       "<div>\n",
       "<style scoped>\n",
       "    .dataframe tbody tr th:only-of-type {\n",
       "        vertical-align: middle;\n",
       "    }\n",
       "\n",
       "    .dataframe tbody tr th {\n",
       "        vertical-align: top;\n",
       "    }\n",
       "\n",
       "    .dataframe thead th {\n",
       "        text-align: right;\n",
       "    }\n",
       "</style>\n",
       "<table border=\"1\" class=\"dataframe\">\n",
       "  <thead>\n",
       "    <tr style=\"text-align: right;\">\n",
       "      <th></th>\n",
       "      <th>Neighbourhood</th>\n",
       "      <th>Population</th>\n",
       "      <th>Density</th>\n",
       "      <th>Avg Income</th>\n",
       "      <th>Transit_Commuting_Percent</th>\n",
       "      <th>Second_Language_Percent</th>\n",
       "    </tr>\n",
       "  </thead>\n",
       "  <tbody>\n",
       "    <tr>\n",
       "      <td>0</td>\n",
       "      <td>Agincourt</td>\n",
       "      <td>44577</td>\n",
       "      <td>3580</td>\n",
       "      <td>25750</td>\n",
       "      <td>11.1</td>\n",
       "      <td>0.0</td>\n",
       "    </tr>\n",
       "    <tr>\n",
       "      <td>1</td>\n",
       "      <td>Alderwood</td>\n",
       "      <td>11656</td>\n",
       "      <td>2360</td>\n",
       "      <td>35239</td>\n",
       "      <td>8.8</td>\n",
       "      <td>0.0</td>\n",
       "    </tr>\n",
       "    <tr>\n",
       "      <td>2</td>\n",
       "      <td>Alexandra Park</td>\n",
       "      <td>4355</td>\n",
       "      <td>13609</td>\n",
       "      <td>19687</td>\n",
       "      <td>13.8</td>\n",
       "      <td>0.0</td>\n",
       "    </tr>\n",
       "    <tr>\n",
       "      <td>3</td>\n",
       "      <td>Allenby</td>\n",
       "      <td>2513</td>\n",
       "      <td>4333</td>\n",
       "      <td>245592</td>\n",
       "      <td>5.2</td>\n",
       "      <td>0.0</td>\n",
       "    </tr>\n",
       "    <tr>\n",
       "      <td>4</td>\n",
       "      <td>Amesbury</td>\n",
       "      <td>17318</td>\n",
       "      <td>4934</td>\n",
       "      <td>27546</td>\n",
       "      <td>16.4</td>\n",
       "      <td>0.0</td>\n",
       "    </tr>\n",
       "  </tbody>\n",
       "</table>\n",
       "</div>"
      ],
      "text/plain": [
       "    Neighbourhood  Population  Density  Avg Income  Transit_Commuting_Percent  \\\n",
       "0       Agincourt       44577     3580       25750                       11.1   \n",
       "1       Alderwood       11656     2360       35239                        8.8   \n",
       "2  Alexandra Park        4355    13609       19687                       13.8   \n",
       "3         Allenby        2513     4333      245592                        5.2   \n",
       "4        Amesbury       17318     4934       27546                       16.4   \n",
       "\n",
       "   Second_Language_Percent  \n",
       "0                      0.0  \n",
       "1                      0.0  \n",
       "2                      0.0  \n",
       "3                      0.0  \n",
       "4                      0.0  "
      ]
     },
     "execution_count": 38,
     "metadata": {},
     "output_type": "execute_result"
    }
   ],
   "source": [
    "PMD_df.head()"
   ]
  },
  {
   "cell_type": "code",
   "execution_count": 39,
   "metadata": {},
   "outputs": [
    {
     "data": {
      "text/plain": [
       "171"
      ]
     },
     "execution_count": 39,
     "metadata": {},
     "output_type": "execute_result"
    }
   ],
   "source": [
    "len(PMD_df['Neighbourhood'].unique().tolist())"
   ]
  },
  {
   "cell_type": "code",
   "execution_count": 40,
   "metadata": {},
   "outputs": [
    {
     "data": {
      "text/html": [
       "<div>\n",
       "<style scoped>\n",
       "    .dataframe tbody tr th:only-of-type {\n",
       "        vertical-align: middle;\n",
       "    }\n",
       "\n",
       "    .dataframe tbody tr th {\n",
       "        vertical-align: top;\n",
       "    }\n",
       "\n",
       "    .dataframe thead th {\n",
       "        text-align: right;\n",
       "    }\n",
       "</style>\n",
       "<table border=\"1\" class=\"dataframe\">\n",
       "  <thead>\n",
       "    <tr style=\"text-align: right;\">\n",
       "      <th></th>\n",
       "      <th>Neighbourhood</th>\n",
       "      <th>Avg Crime</th>\n",
       "    </tr>\n",
       "  </thead>\n",
       "  <tbody>\n",
       "    <tr>\n",
       "      <td>0</td>\n",
       "      <td>Yonge</td>\n",
       "      <td>23.07</td>\n",
       "    </tr>\n",
       "    <tr>\n",
       "      <td>1</td>\n",
       "      <td>York University Heights</td>\n",
       "      <td>34.02</td>\n",
       "    </tr>\n",
       "    <tr>\n",
       "      <td>2</td>\n",
       "      <td>Lansing</td>\n",
       "      <td>60.13</td>\n",
       "    </tr>\n",
       "    <tr>\n",
       "      <td>3</td>\n",
       "      <td>Yorkdale</td>\n",
       "      <td>43.03</td>\n",
       "    </tr>\n",
       "    <tr>\n",
       "      <td>4</td>\n",
       "      <td>Stonegate</td>\n",
       "      <td>37.40</td>\n",
       "    </tr>\n",
       "  </tbody>\n",
       "</table>\n",
       "</div>"
      ],
      "text/plain": [
       "             Neighbourhood  Avg Crime\n",
       "0                    Yonge      23.07\n",
       "1  York University Heights      34.02\n",
       "2                  Lansing      60.13\n",
       "3                 Yorkdale      43.03\n",
       "4                Stonegate      37.40"
      ]
     },
     "execution_count": 40,
     "metadata": {},
     "output_type": "execute_result"
    }
   ],
   "source": [
    "CD_df.head()"
   ]
  },
  {
   "cell_type": "code",
   "execution_count": 41,
   "metadata": {},
   "outputs": [
    {
     "data": {
      "text/plain": [
       "130"
      ]
     },
     "execution_count": 41,
     "metadata": {},
     "output_type": "execute_result"
    }
   ],
   "source": [
    "len(CD_df['Neighbourhood'].unique().tolist())"
   ]
  },
  {
   "cell_type": "code",
   "execution_count": null,
   "metadata": {},
   "outputs": [],
   "source": []
  },
  {
   "cell_type": "code",
   "execution_count": 42,
   "metadata": {},
   "outputs": [],
   "source": [
    "# LLD_df\n",
    "# CD_df\n",
    "# ED_df\n",
    "# PMD_df\n",
    "#LLD - CD  = 53  64\n",
    "#LLD - ED  = 53  64\n",
    "#LLD - PMD = 83  94\n",
    "#CD  - ED  = 137 129\n",
    "#CD  - PMD = 73  84\n",
    "#ED  - PMD = 73  84"
   ]
  },
  {
   "cell_type": "code",
   "execution_count": 43,
   "metadata": {},
   "outputs": [
    {
     "data": {
      "text/plain": [
       "60"
      ]
     },
     "execution_count": 43,
     "metadata": {},
     "output_type": "execute_result"
    }
   ],
   "source": [
    "#tmp = pd.merge(ED_df, PMD_df, on='Neighbourhood', how='inner')\n",
    "tmp = pd.merge(LLD_df, CD_df, on='Neighbourhood', how='inner')\n",
    "tmp = pd.merge(tmp, ED_df, on='Neighbourhood', how='inner')\n",
    "tmp = pd.merge(tmp, PMD_df, on='Neighbourhood', how='inner')\n",
    "tmp = pd.merge(tmp, RD_df, on='Neighbourhood', how='inner')\n",
    "\n",
    "len(tmp['Neighbourhood'].unique().tolist())\n",
    "#tmp.head()"
   ]
  },
  {
   "cell_type": "code",
   "execution_count": 44,
   "metadata": {},
   "outputs": [
    {
     "data": {
      "text/plain": [
       "60"
      ]
     },
     "execution_count": 44,
     "metadata": {},
     "output_type": "execute_result"
    }
   ],
   "source": [
    "len(tmp['Neighbourhood'].unique().tolist())"
   ]
  },
  {
   "cell_type": "code",
   "execution_count": 45,
   "metadata": {},
   "outputs": [
    {
     "data": {
      "text/html": [
       "<div>\n",
       "<style scoped>\n",
       "    .dataframe tbody tr th:only-of-type {\n",
       "        vertical-align: middle;\n",
       "    }\n",
       "\n",
       "    .dataframe tbody tr th {\n",
       "        vertical-align: top;\n",
       "    }\n",
       "\n",
       "    .dataframe thead th {\n",
       "        text-align: right;\n",
       "    }\n",
       "</style>\n",
       "<table border=\"1\" class=\"dataframe\">\n",
       "  <thead>\n",
       "    <tr style=\"text-align: right;\">\n",
       "      <th></th>\n",
       "      <th>Borough</th>\n",
       "      <th>Neighbourhood</th>\n",
       "      <th>Latitude</th>\n",
       "      <th>Longitude</th>\n",
       "      <th>Avg Crime</th>\n",
       "      <th>Employment</th>\n",
       "      <th>Population</th>\n",
       "      <th>Density</th>\n",
       "      <th>Avg Income</th>\n",
       "      <th>Transit_Commuting_Percent</th>\n",
       "      <th>Second_Language_Percent</th>\n",
       "      <th>Recreation Places Count</th>\n",
       "    </tr>\n",
       "  </thead>\n",
       "  <tbody>\n",
       "    <tr>\n",
       "      <td>0</td>\n",
       "      <td>North York</td>\n",
       "      <td>Parkwoods</td>\n",
       "      <td>43.753259</td>\n",
       "      <td>-79.329656</td>\n",
       "      <td>12.27</td>\n",
       "      <td>2995.34</td>\n",
       "      <td>26533</td>\n",
       "      <td>5349</td>\n",
       "      <td>34811</td>\n",
       "      <td>14.0</td>\n",
       "      <td>0.0</td>\n",
       "      <td>2</td>\n",
       "    </tr>\n",
       "    <tr>\n",
       "      <td>1</td>\n",
       "      <td>North York</td>\n",
       "      <td>Victoria Village</td>\n",
       "      <td>43.725882</td>\n",
       "      <td>-79.315572</td>\n",
       "      <td>33.62</td>\n",
       "      <td>7520.42</td>\n",
       "      <td>17047</td>\n",
       "      <td>3612</td>\n",
       "      <td>29657</td>\n",
       "      <td>15.6</td>\n",
       "      <td>0.0</td>\n",
       "      <td>4</td>\n",
       "    </tr>\n",
       "    <tr>\n",
       "      <td>2</td>\n",
       "      <td>Downtown Toronto</td>\n",
       "      <td>Regent Park</td>\n",
       "      <td>43.654260</td>\n",
       "      <td>-79.360636</td>\n",
       "      <td>23.68</td>\n",
       "      <td>2064.24</td>\n",
       "      <td>10387</td>\n",
       "      <td>16230</td>\n",
       "      <td>19521</td>\n",
       "      <td>16.0</td>\n",
       "      <td>0.0</td>\n",
       "      <td>0</td>\n",
       "    </tr>\n",
       "    <tr>\n",
       "      <td>3</td>\n",
       "      <td>Scarborough</td>\n",
       "      <td>Rouge</td>\n",
       "      <td>43.806686</td>\n",
       "      <td>-79.194353</td>\n",
       "      <td>19.00</td>\n",
       "      <td>15187.28</td>\n",
       "      <td>22724</td>\n",
       "      <td>791</td>\n",
       "      <td>29230</td>\n",
       "      <td>12.1</td>\n",
       "      <td>0.0</td>\n",
       "      <td>1</td>\n",
       "    </tr>\n",
       "    <tr>\n",
       "      <td>4</td>\n",
       "      <td>Scarborough</td>\n",
       "      <td>Rouge</td>\n",
       "      <td>43.806686</td>\n",
       "      <td>-79.194353</td>\n",
       "      <td>19.00</td>\n",
       "      <td>15187.28</td>\n",
       "      <td>9300</td>\n",
       "      <td>2090</td>\n",
       "      <td>44605</td>\n",
       "      <td>14.1</td>\n",
       "      <td>0.0</td>\n",
       "      <td>1</td>\n",
       "    </tr>\n",
       "  </tbody>\n",
       "</table>\n",
       "</div>"
      ],
      "text/plain": [
       "            Borough     Neighbourhood   Latitude  Longitude  Avg Crime  \\\n",
       "0        North York         Parkwoods  43.753259 -79.329656      12.27   \n",
       "1        North York  Victoria Village  43.725882 -79.315572      33.62   \n",
       "2  Downtown Toronto       Regent Park  43.654260 -79.360636      23.68   \n",
       "3       Scarborough             Rouge  43.806686 -79.194353      19.00   \n",
       "4       Scarborough             Rouge  43.806686 -79.194353      19.00   \n",
       "\n",
       "   Employment  Population  Density  Avg Income  Transit_Commuting_Percent  \\\n",
       "0     2995.34       26533     5349       34811                       14.0   \n",
       "1     7520.42       17047     3612       29657                       15.6   \n",
       "2     2064.24       10387    16230       19521                       16.0   \n",
       "3    15187.28       22724      791       29230                       12.1   \n",
       "4    15187.28        9300     2090       44605                       14.1   \n",
       "\n",
       "   Second_Language_Percent  Recreation Places Count  \n",
       "0                      0.0                        2  \n",
       "1                      0.0                        4  \n",
       "2                      0.0                        0  \n",
       "3                      0.0                        1  \n",
       "4                      0.0                        1  "
      ]
     },
     "execution_count": 45,
     "metadata": {},
     "output_type": "execute_result"
    }
   ],
   "source": [
    "tmp.head()"
   ]
  },
  {
   "cell_type": "code",
   "execution_count": 46,
   "metadata": {},
   "outputs": [
    {
     "data": {
      "text/plain": [
       "(181, 12)"
      ]
     },
     "execution_count": 46,
     "metadata": {},
     "output_type": "execute_result"
    }
   ],
   "source": [
    "tmp.shape"
   ]
  },
  {
   "cell_type": "code",
   "execution_count": 47,
   "metadata": {},
   "outputs": [],
   "source": [
    "tmp.drop_duplicates(subset = 'Neighbourhood', keep='first', inplace=True)\n"
   ]
  },
  {
   "cell_type": "code",
   "execution_count": 48,
   "metadata": {},
   "outputs": [
    {
     "data": {
      "text/plain": [
       "(60, 12)"
      ]
     },
     "execution_count": 48,
     "metadata": {},
     "output_type": "execute_result"
    }
   ],
   "source": [
    "tmp.shape"
   ]
  },
  {
   "cell_type": "code",
   "execution_count": 49,
   "metadata": {},
   "outputs": [
    {
     "data": {
      "text/html": [
       "<div>\n",
       "<style scoped>\n",
       "    .dataframe tbody tr th:only-of-type {\n",
       "        vertical-align: middle;\n",
       "    }\n",
       "\n",
       "    .dataframe tbody tr th {\n",
       "        vertical-align: top;\n",
       "    }\n",
       "\n",
       "    .dataframe thead th {\n",
       "        text-align: right;\n",
       "    }\n",
       "</style>\n",
       "<table border=\"1\" class=\"dataframe\">\n",
       "  <thead>\n",
       "    <tr style=\"text-align: right;\">\n",
       "      <th></th>\n",
       "      <th>Borough</th>\n",
       "      <th>Neighbourhood</th>\n",
       "      <th>Latitude</th>\n",
       "      <th>Longitude</th>\n",
       "      <th>Avg Crime</th>\n",
       "      <th>Employment</th>\n",
       "      <th>Population</th>\n",
       "      <th>Density</th>\n",
       "      <th>Avg Income</th>\n",
       "      <th>Transit_Commuting_Percent</th>\n",
       "      <th>Second_Language_Percent</th>\n",
       "      <th>Recreation Places Count</th>\n",
       "    </tr>\n",
       "  </thead>\n",
       "  <tbody>\n",
       "    <tr>\n",
       "      <td>0</td>\n",
       "      <td>North York</td>\n",
       "      <td>Parkwoods</td>\n",
       "      <td>43.753259</td>\n",
       "      <td>-79.329656</td>\n",
       "      <td>12.27</td>\n",
       "      <td>2995.34</td>\n",
       "      <td>26533</td>\n",
       "      <td>5349</td>\n",
       "      <td>34811</td>\n",
       "      <td>14.0</td>\n",
       "      <td>0.0</td>\n",
       "      <td>2</td>\n",
       "    </tr>\n",
       "    <tr>\n",
       "      <td>1</td>\n",
       "      <td>North York</td>\n",
       "      <td>Victoria Village</td>\n",
       "      <td>43.725882</td>\n",
       "      <td>-79.315572</td>\n",
       "      <td>33.62</td>\n",
       "      <td>7520.42</td>\n",
       "      <td>17047</td>\n",
       "      <td>3612</td>\n",
       "      <td>29657</td>\n",
       "      <td>15.6</td>\n",
       "      <td>0.0</td>\n",
       "      <td>4</td>\n",
       "    </tr>\n",
       "    <tr>\n",
       "      <td>2</td>\n",
       "      <td>Downtown Toronto</td>\n",
       "      <td>Regent Park</td>\n",
       "      <td>43.654260</td>\n",
       "      <td>-79.360636</td>\n",
       "      <td>23.68</td>\n",
       "      <td>2064.24</td>\n",
       "      <td>10387</td>\n",
       "      <td>16230</td>\n",
       "      <td>19521</td>\n",
       "      <td>16.0</td>\n",
       "      <td>0.0</td>\n",
       "      <td>0</td>\n",
       "    </tr>\n",
       "    <tr>\n",
       "      <td>3</td>\n",
       "      <td>Scarborough</td>\n",
       "      <td>Rouge</td>\n",
       "      <td>43.806686</td>\n",
       "      <td>-79.194353</td>\n",
       "      <td>19.00</td>\n",
       "      <td>15187.28</td>\n",
       "      <td>22724</td>\n",
       "      <td>791</td>\n",
       "      <td>29230</td>\n",
       "      <td>12.1</td>\n",
       "      <td>0.0</td>\n",
       "      <td>1</td>\n",
       "    </tr>\n",
       "    <tr>\n",
       "      <td>5</td>\n",
       "      <td>Scarborough</td>\n",
       "      <td>Malvern</td>\n",
       "      <td>43.806686</td>\n",
       "      <td>-79.194353</td>\n",
       "      <td>36.48</td>\n",
       "      <td>11943.94</td>\n",
       "      <td>44324</td>\n",
       "      <td>5003</td>\n",
       "      <td>25677</td>\n",
       "      <td>13.6</td>\n",
       "      <td>0.0</td>\n",
       "      <td>1</td>\n",
       "    </tr>\n",
       "  </tbody>\n",
       "</table>\n",
       "</div>"
      ],
      "text/plain": [
       "            Borough     Neighbourhood   Latitude  Longitude  Avg Crime  \\\n",
       "0        North York         Parkwoods  43.753259 -79.329656      12.27   \n",
       "1        North York  Victoria Village  43.725882 -79.315572      33.62   \n",
       "2  Downtown Toronto       Regent Park  43.654260 -79.360636      23.68   \n",
       "3       Scarborough             Rouge  43.806686 -79.194353      19.00   \n",
       "5       Scarborough           Malvern  43.806686 -79.194353      36.48   \n",
       "\n",
       "   Employment  Population  Density  Avg Income  Transit_Commuting_Percent  \\\n",
       "0     2995.34       26533     5349       34811                       14.0   \n",
       "1     7520.42       17047     3612       29657                       15.6   \n",
       "2     2064.24       10387    16230       19521                       16.0   \n",
       "3    15187.28       22724      791       29230                       12.1   \n",
       "5    11943.94       44324     5003       25677                       13.6   \n",
       "\n",
       "   Second_Language_Percent  Recreation Places Count  \n",
       "0                      0.0                        2  \n",
       "1                      0.0                        4  \n",
       "2                      0.0                        0  \n",
       "3                      0.0                        1  \n",
       "5                      0.0                        1  "
      ]
     },
     "execution_count": 49,
     "metadata": {},
     "output_type": "execute_result"
    }
   ],
   "source": [
    "tmp.head()"
   ]
  },
  {
   "cell_type": "code",
   "execution_count": null,
   "metadata": {},
   "outputs": [],
   "source": []
  },
  {
   "cell_type": "code",
   "execution_count": null,
   "metadata": {},
   "outputs": [],
   "source": []
  },
  {
   "cell_type": "code",
   "execution_count": 52,
   "metadata": {},
   "outputs": [],
   "source": [
    "tmp.to_csv('CS_MERGED_DATA.csv', index=False)"
   ]
  },
  {
   "cell_type": "code",
   "execution_count": null,
   "metadata": {},
   "outputs": [],
   "source": []
  },
  {
   "cell_type": "code",
   "execution_count": null,
   "metadata": {},
   "outputs": [],
   "source": []
  }
 ],
 "metadata": {
  "kernelspec": {
   "display_name": "Python",
   "language": "python",
   "name": "conda-env-python-py"
  },
  "language_info": {
   "codemirror_mode": {
    "name": "ipython",
    "version": 3
   },
   "file_extension": ".py",
   "mimetype": "text/x-python",
   "name": "python",
   "nbconvert_exporter": "python",
   "pygments_lexer": "ipython3",
   "version": "3.6.7"
  }
 },
 "nbformat": 4,
 "nbformat_minor": 4
}
