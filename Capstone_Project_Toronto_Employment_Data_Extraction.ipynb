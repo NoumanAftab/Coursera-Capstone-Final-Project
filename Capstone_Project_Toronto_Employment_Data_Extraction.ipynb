{
 "cells": [
  {
   "cell_type": "markdown",
   "metadata": {},
   "source": [
    "# Toronto Neighbourhood Employment Data\n",
    "## Extraction of Employment Data from wellbeing toronto economic csv file from www.toronto.ca"
   ]
  },
  {
   "cell_type": "code",
   "execution_count": 1,
   "metadata": {},
   "outputs": [],
   "source": [
    "import pandas as pd"
   ]
  },
  {
   "cell_type": "code",
   "execution_count": 2,
   "metadata": {},
   "outputs": [],
   "source": [
    "#!conda update -n base -c defaults conda --yes"
   ]
  },
  {
   "cell_type": "code",
   "execution_count": 3,
   "metadata": {},
   "outputs": [],
   "source": [
    "#!conda install -c anaconda xlrd --yes"
   ]
  },
  {
   "cell_type": "code",
   "execution_count": null,
   "metadata": {},
   "outputs": [],
   "source": []
  },
  {
   "cell_type": "code",
   "execution_count": 4,
   "metadata": {},
   "outputs": [
    {
     "data": {
      "text/html": [
       "<div>\n",
       "<style scoped>\n",
       "    .dataframe tbody tr th:only-of-type {\n",
       "        vertical-align: middle;\n",
       "    }\n",
       "\n",
       "    .dataframe tbody tr th {\n",
       "        vertical-align: top;\n",
       "    }\n",
       "\n",
       "    .dataframe thead th {\n",
       "        text-align: right;\n",
       "    }\n",
       "</style>\n",
       "<table border=\"1\" class=\"dataframe\">\n",
       "  <thead>\n",
       "    <tr style=\"text-align: right;\">\n",
       "      <th></th>\n",
       "      <th>Neighbourhood</th>\n",
       "      <th>Neighbourhood Id</th>\n",
       "      <th>Businesses</th>\n",
       "      <th>Child Care Spaces</th>\n",
       "      <th>Debt Risk Score</th>\n",
       "      <th>Home Prices</th>\n",
       "      <th>Local Employment</th>\n",
       "      <th>Social Assistance Recipients</th>\n",
       "    </tr>\n",
       "  </thead>\n",
       "  <tbody>\n",
       "    <tr>\n",
       "      <td>0</td>\n",
       "      <td>West Humber-Clairville</td>\n",
       "      <td>1</td>\n",
       "      <td>2463</td>\n",
       "      <td>195</td>\n",
       "      <td>719</td>\n",
       "      <td>317508</td>\n",
       "      <td>58271</td>\n",
       "      <td>2912</td>\n",
       "    </tr>\n",
       "    <tr>\n",
       "      <td>1</td>\n",
       "      <td>Mount Olive-Silverstone-Jamestown</td>\n",
       "      <td>2</td>\n",
       "      <td>271</td>\n",
       "      <td>60</td>\n",
       "      <td>687</td>\n",
       "      <td>251119</td>\n",
       "      <td>3244</td>\n",
       "      <td>6561</td>\n",
       "    </tr>\n",
       "    <tr>\n",
       "      <td>2</td>\n",
       "      <td>Thistletown-Beaumond Heights</td>\n",
       "      <td>3</td>\n",
       "      <td>217</td>\n",
       "      <td>25</td>\n",
       "      <td>718</td>\n",
       "      <td>414216</td>\n",
       "      <td>1311</td>\n",
       "      <td>1276</td>\n",
       "    </tr>\n",
       "    <tr>\n",
       "      <td>3</td>\n",
       "      <td>Rexdale-Kipling</td>\n",
       "      <td>4</td>\n",
       "      <td>144</td>\n",
       "      <td>75</td>\n",
       "      <td>721</td>\n",
       "      <td>392271</td>\n",
       "      <td>1178</td>\n",
       "      <td>1323</td>\n",
       "    </tr>\n",
       "    <tr>\n",
       "      <td>4</td>\n",
       "      <td>Elms-Old Rexdale</td>\n",
       "      <td>5</td>\n",
       "      <td>67</td>\n",
       "      <td>60</td>\n",
       "      <td>692</td>\n",
       "      <td>233832</td>\n",
       "      <td>903</td>\n",
       "      <td>1683</td>\n",
       "    </tr>\n",
       "  </tbody>\n",
       "</table>\n",
       "</div>"
      ],
      "text/plain": [
       "                       Neighbourhood  Neighbourhood Id  Businesses  \\\n",
       "0             West Humber-Clairville                 1        2463   \n",
       "1  Mount Olive-Silverstone-Jamestown                 2         271   \n",
       "2       Thistletown-Beaumond Heights                 3         217   \n",
       "3                    Rexdale-Kipling                 4         144   \n",
       "4                   Elms-Old Rexdale                 5          67   \n",
       "\n",
       "   Child Care Spaces  Debt Risk Score  Home Prices  Local Employment  \\\n",
       "0                195              719       317508             58271   \n",
       "1                 60              687       251119              3244   \n",
       "2                 25              718       414216              1311   \n",
       "3                 75              721       392271              1178   \n",
       "4                 60              692       233832               903   \n",
       "\n",
       "   Social Assistance Recipients  \n",
       "0                          2912  \n",
       "1                          6561  \n",
       "2                          1276  \n",
       "3                          1323  \n",
       "4                          1683  "
      ]
     },
     "execution_count": 4,
     "metadata": {},
     "output_type": "execute_result"
    }
   ],
   "source": [
    "WB_df = pd.read_csv(r'wellbeing_toronto_2016_economicsOriginal.csv')\n",
    "WB_df.head()"
   ]
  },
  {
   "cell_type": "code",
   "execution_count": 5,
   "metadata": {},
   "outputs": [
    {
     "data": {
      "text/html": [
       "<div>\n",
       "<style scoped>\n",
       "    .dataframe tbody tr th:only-of-type {\n",
       "        vertical-align: middle;\n",
       "    }\n",
       "\n",
       "    .dataframe tbody tr th {\n",
       "        vertical-align: top;\n",
       "    }\n",
       "\n",
       "    .dataframe thead th {\n",
       "        text-align: right;\n",
       "    }\n",
       "</style>\n",
       "<table border=\"1\" class=\"dataframe\">\n",
       "  <thead>\n",
       "    <tr style=\"text-align: right;\">\n",
       "      <th></th>\n",
       "      <th>Neighbourhood</th>\n",
       "    </tr>\n",
       "  </thead>\n",
       "  <tbody>\n",
       "    <tr>\n",
       "      <td>0</td>\n",
       "      <td>West Humber</td>\n",
       "    </tr>\n",
       "    <tr>\n",
       "      <td>1</td>\n",
       "      <td>Mount Olive</td>\n",
       "    </tr>\n",
       "    <tr>\n",
       "      <td>2</td>\n",
       "      <td>Thistletown</td>\n",
       "    </tr>\n",
       "    <tr>\n",
       "      <td>3</td>\n",
       "      <td>Rexdale</td>\n",
       "    </tr>\n",
       "    <tr>\n",
       "      <td>4</td>\n",
       "      <td>Elms</td>\n",
       "    </tr>\n",
       "  </tbody>\n",
       "</table>\n",
       "</div>"
      ],
      "text/plain": [
       "  Neighbourhood\n",
       "0   West Humber\n",
       "1   Mount Olive\n",
       "2   Thistletown\n",
       "3       Rexdale\n",
       "4          Elms"
      ]
     },
     "execution_count": 5,
     "metadata": {},
     "output_type": "execute_result"
    }
   ],
   "source": [
    "# Spliting the Neighbourhood names by '-' & '/' to remove old names or alternate names of neighbourhoods\n",
    "\n",
    "lt=[]\n",
    "k = WB_df['Neighbourhood'].str.split('-|/')\n",
    "\n",
    "k[:][0]\n",
    "for itr,v in enumerate(k):\n",
    "    #print(itr)\n",
    "    #print(v[0])\n",
    "    lt.append(v[0].strip())\n",
    "   \n",
    "    #k.str.replace('West', '')\n",
    "\n",
    "EMP=pd.DataFrame(lt, columns=['Neighbourhood'])\n",
    "EMP.head()"
   ]
  },
  {
   "cell_type": "code",
   "execution_count": 6,
   "metadata": {},
   "outputs": [
    {
     "data": {
      "text/plain": [
       "(140, 1)"
      ]
     },
     "execution_count": 6,
     "metadata": {},
     "output_type": "execute_result"
    }
   ],
   "source": [
    "# Following shows that there are 140 neighbourhoods in toronto\n",
    "EMP.shape"
   ]
  },
  {
   "cell_type": "code",
   "execution_count": 7,
   "metadata": {},
   "outputs": [],
   "source": [
    "# copying the data of employment converting the name of column\n",
    "EMP['Employment'] = WB_df['Local Employment']"
   ]
  },
  {
   "cell_type": "code",
   "execution_count": 8,
   "metadata": {},
   "outputs": [
    {
     "data": {
      "text/html": [
       "<div>\n",
       "<style scoped>\n",
       "    .dataframe tbody tr th:only-of-type {\n",
       "        vertical-align: middle;\n",
       "    }\n",
       "\n",
       "    .dataframe tbody tr th {\n",
       "        vertical-align: top;\n",
       "    }\n",
       "\n",
       "    .dataframe thead th {\n",
       "        text-align: right;\n",
       "    }\n",
       "</style>\n",
       "<table border=\"1\" class=\"dataframe\">\n",
       "  <thead>\n",
       "    <tr style=\"text-align: right;\">\n",
       "      <th></th>\n",
       "      <th>Neighbourhood</th>\n",
       "      <th>Employment</th>\n",
       "    </tr>\n",
       "  </thead>\n",
       "  <tbody>\n",
       "    <tr>\n",
       "      <td>0</td>\n",
       "      <td>West Humber</td>\n",
       "      <td>58271</td>\n",
       "    </tr>\n",
       "    <tr>\n",
       "      <td>1</td>\n",
       "      <td>Mount Olive</td>\n",
       "      <td>3244</td>\n",
       "    </tr>\n",
       "    <tr>\n",
       "      <td>2</td>\n",
       "      <td>Thistletown</td>\n",
       "      <td>1311</td>\n",
       "    </tr>\n",
       "    <tr>\n",
       "      <td>3</td>\n",
       "      <td>Rexdale</td>\n",
       "      <td>1178</td>\n",
       "    </tr>\n",
       "    <tr>\n",
       "      <td>4</td>\n",
       "      <td>Elms</td>\n",
       "      <td>903</td>\n",
       "    </tr>\n",
       "  </tbody>\n",
       "</table>\n",
       "</div>"
      ],
      "text/plain": [
       "  Neighbourhood  Employment\n",
       "0   West Humber       58271\n",
       "1   Mount Olive        3244\n",
       "2   Thistletown        1311\n",
       "3       Rexdale        1178\n",
       "4          Elms         903"
      ]
     },
     "execution_count": 8,
     "metadata": {},
     "output_type": "execute_result"
    }
   ],
   "source": [
    "EMP.head()"
   ]
  },
  {
   "cell_type": "markdown",
   "metadata": {},
   "source": [
    "### The open data of Employment in Toronto available is upto 2016 where other data in this project is upto date, therefore for consistancy, employment in each neighbourhood is approximated with available employment growth rate\n",
    "\n",
    "### The growth rate of Employment in Toronto from the year 2016 till present(2019) is 9.0 approx. \n",
    "\n",
    "### For year 2016 employment growth rate ---> 1.2 %\n",
    "### For year 2017 employment growth rate ---> 3.9 %\n",
    "### For year 2018 employment growth rate ---> 1.8 %\n",
    "### Therefore approximating the employment, for consistancy it is converted"
   ]
  },
  {
   "cell_type": "code",
   "execution_count": 9,
   "metadata": {},
   "outputs": [
    {
     "data": {
      "text/html": [
       "<div>\n",
       "<style scoped>\n",
       "    .dataframe tbody tr th:only-of-type {\n",
       "        vertical-align: middle;\n",
       "    }\n",
       "\n",
       "    .dataframe tbody tr th {\n",
       "        vertical-align: top;\n",
       "    }\n",
       "\n",
       "    .dataframe thead th {\n",
       "        text-align: right;\n",
       "    }\n",
       "</style>\n",
       "<table border=\"1\" class=\"dataframe\">\n",
       "  <thead>\n",
       "    <tr style=\"text-align: right;\">\n",
       "      <th></th>\n",
       "      <th>Neighbourhood</th>\n",
       "      <th>Employment</th>\n",
       "    </tr>\n",
       "  </thead>\n",
       "  <tbody>\n",
       "    <tr>\n",
       "      <td>0</td>\n",
       "      <td>West Humber</td>\n",
       "      <td>62291.70</td>\n",
       "    </tr>\n",
       "    <tr>\n",
       "      <td>1</td>\n",
       "      <td>Mount Olive</td>\n",
       "      <td>3467.84</td>\n",
       "    </tr>\n",
       "    <tr>\n",
       "      <td>2</td>\n",
       "      <td>Thistletown</td>\n",
       "      <td>1401.46</td>\n",
       "    </tr>\n",
       "    <tr>\n",
       "      <td>3</td>\n",
       "      <td>Rexdale</td>\n",
       "      <td>1259.28</td>\n",
       "    </tr>\n",
       "    <tr>\n",
       "      <td>4</td>\n",
       "      <td>Elms</td>\n",
       "      <td>965.31</td>\n",
       "    </tr>\n",
       "    <tr>\n",
       "      <td>...</td>\n",
       "      <td>...</td>\n",
       "      <td>...</td>\n",
       "    </tr>\n",
       "    <tr>\n",
       "      <td>135</td>\n",
       "      <td>West Hill</td>\n",
       "      <td>4810.50</td>\n",
       "    </tr>\n",
       "    <tr>\n",
       "      <td>136</td>\n",
       "      <td>Woburn</td>\n",
       "      <td>17307.11</td>\n",
       "    </tr>\n",
       "    <tr>\n",
       "      <td>137</td>\n",
       "      <td>Eglinton East</td>\n",
       "      <td>2513.22</td>\n",
       "    </tr>\n",
       "    <tr>\n",
       "      <td>138</td>\n",
       "      <td>Scarborough Village</td>\n",
       "      <td>1978.72</td>\n",
       "    </tr>\n",
       "    <tr>\n",
       "      <td>139</td>\n",
       "      <td>Guildwood</td>\n",
       "      <td>987.76</td>\n",
       "    </tr>\n",
       "  </tbody>\n",
       "</table>\n",
       "<p>140 rows × 2 columns</p>\n",
       "</div>"
      ],
      "text/plain": [
       "           Neighbourhood  Employment\n",
       "0            West Humber    62291.70\n",
       "1            Mount Olive     3467.84\n",
       "2            Thistletown     1401.46\n",
       "3                Rexdale     1259.28\n",
       "4                   Elms      965.31\n",
       "..                   ...         ...\n",
       "135            West Hill     4810.50\n",
       "136               Woburn    17307.11\n",
       "137        Eglinton East     2513.22\n",
       "138  Scarborough Village     1978.72\n",
       "139            Guildwood      987.76\n",
       "\n",
       "[140 rows x 2 columns]"
      ]
     },
     "execution_count": 9,
     "metadata": {},
     "output_type": "execute_result"
    }
   ],
   "source": [
    "### Rounding off to two digits\n",
    "EMP['Employment'] = round(EMP['Employment']+(EMP['Employment']*6.9/100), 2)\n",
    "EMP"
   ]
  },
  {
   "cell_type": "code",
   "execution_count": 10,
   "metadata": {},
   "outputs": [],
   "source": [
    "EMP['Neighbourhood'] = EMP['Neighbourhood'].str.replace('The', '')\n",
    "EMP['Neighbourhood'] = EMP['Neighbourhood'].str.replace('North', '')\n",
    "EMP['Neighbourhood'] = EMP['Neighbourhood'].str.replace('South', '')\n",
    "EMP['Neighbourhood'] = EMP['Neighbourhood'].str.replace('East', '')\n",
    "EMP['Neighbourhood'] = EMP['Neighbourhood'].str.replace('West', '')\n",
    "EMP['Neighbourhood'] = [tmp.strip() for tmp in EMP['Neighbourhood']]"
   ]
  },
  {
   "cell_type": "code",
   "execution_count": 12,
   "metadata": {},
   "outputs": [
    {
     "data": {
      "text/html": [
       "<div>\n",
       "<style scoped>\n",
       "    .dataframe tbody tr th:only-of-type {\n",
       "        vertical-align: middle;\n",
       "    }\n",
       "\n",
       "    .dataframe tbody tr th {\n",
       "        vertical-align: top;\n",
       "    }\n",
       "\n",
       "    .dataframe thead th {\n",
       "        text-align: right;\n",
       "    }\n",
       "</style>\n",
       "<table border=\"1\" class=\"dataframe\">\n",
       "  <thead>\n",
       "    <tr style=\"text-align: right;\">\n",
       "      <th></th>\n",
       "      <th>Neighbourhood</th>\n",
       "      <th>Employment</th>\n",
       "    </tr>\n",
       "  </thead>\n",
       "  <tbody>\n",
       "    <tr>\n",
       "      <td>0</td>\n",
       "      <td>Humber</td>\n",
       "      <td>62291.70</td>\n",
       "    </tr>\n",
       "    <tr>\n",
       "      <td>1</td>\n",
       "      <td>Mount Olive</td>\n",
       "      <td>3467.84</td>\n",
       "    </tr>\n",
       "    <tr>\n",
       "      <td>2</td>\n",
       "      <td>Thistletown</td>\n",
       "      <td>1401.46</td>\n",
       "    </tr>\n",
       "    <tr>\n",
       "      <td>3</td>\n",
       "      <td>Rexdale</td>\n",
       "      <td>1259.28</td>\n",
       "    </tr>\n",
       "    <tr>\n",
       "      <td>4</td>\n",
       "      <td>Elms</td>\n",
       "      <td>965.31</td>\n",
       "    </tr>\n",
       "  </tbody>\n",
       "</table>\n",
       "</div>"
      ],
      "text/plain": [
       "  Neighbourhood  Employment\n",
       "0        Humber    62291.70\n",
       "1   Mount Olive     3467.84\n",
       "2   Thistletown     1401.46\n",
       "3       Rexdale     1259.28\n",
       "4          Elms      965.31"
      ]
     },
     "execution_count": 12,
     "metadata": {},
     "output_type": "execute_result"
    }
   ],
   "source": [
    "EMP.head()"
   ]
  },
  {
   "cell_type": "code",
   "execution_count": 13,
   "metadata": {},
   "outputs": [
    {
     "data": {
      "text/plain": [
       "dtype('float64')"
      ]
     },
     "execution_count": 13,
     "metadata": {},
     "output_type": "execute_result"
    }
   ],
   "source": [
    "EMP['Employment'].dtype"
   ]
  },
  {
   "cell_type": "code",
   "execution_count": 14,
   "metadata": {},
   "outputs": [],
   "source": [
    "EMP.to_csv('CS_EmploymentData.csv', index=False)"
   ]
  },
  {
   "cell_type": "code",
   "execution_count": null,
   "metadata": {},
   "outputs": [],
   "source": []
  },
  {
   "cell_type": "code",
   "execution_count": null,
   "metadata": {},
   "outputs": [],
   "source": []
  }
 ],
 "metadata": {
  "kernelspec": {
   "display_name": "Python",
   "language": "python",
   "name": "conda-env-python-py"
  },
  "language_info": {
   "codemirror_mode": {
    "name": "ipython",
    "version": 3
   },
   "file_extension": ".py",
   "mimetype": "text/x-python",
   "name": "python",
   "nbconvert_exporter": "python",
   "pygments_lexer": "ipython3",
   "version": "3.6.7"
  }
 },
 "nbformat": 4,
 "nbformat_minor": 4
}
