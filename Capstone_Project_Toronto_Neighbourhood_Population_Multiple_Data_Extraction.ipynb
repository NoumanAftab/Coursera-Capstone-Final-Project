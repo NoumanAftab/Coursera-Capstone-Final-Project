{
 "cells": [
  {
   "cell_type": "markdown",
   "metadata": {},
   "source": [
    "# Toronto Neighbourhood Population etc Data"
   ]
  },
  {
   "cell_type": "code",
   "execution_count": 250,
   "metadata": {},
   "outputs": [],
   "source": [
    "import pandas as pd\n",
    "import numpy as np"
   ]
  },
  {
   "cell_type": "code",
   "execution_count": null,
   "metadata": {},
   "outputs": [],
   "source": []
  },
  {
   "cell_type": "code",
   "execution_count": 251,
   "metadata": {},
   "outputs": [],
   "source": [
    "#!conda install --yes beautifulsoup4"
   ]
  },
  {
   "cell_type": "code",
   "execution_count": 252,
   "metadata": {},
   "outputs": [],
   "source": [
    "#!conda install --yes lxml"
   ]
  },
  {
   "cell_type": "code",
   "execution_count": 253,
   "metadata": {},
   "outputs": [
    {
     "name": "stdout",
     "output_type": "stream",
     "text": [
      "done\n"
     ]
    }
   ],
   "source": [
    "from bs4 import BeautifulSoup\n",
    "import urllib.request as urlreq\n",
    "import lxml\n",
    "print('done')"
   ]
  },
  {
   "cell_type": "markdown",
   "metadata": {},
   "source": [
    "# Downloading data from Wikipedia"
   ]
  },
  {
   "cell_type": "code",
   "execution_count": 276,
   "metadata": {},
   "outputs": [],
   "source": [
    "with urlreq.urlopen(\"https://en.wikipedia.org/wiki/Demographics_of_Toronto_neighbourhoods\") as response:\n",
    "    TorontoPopulation_html = response.read()"
   ]
  },
  {
   "cell_type": "code",
   "execution_count": null,
   "metadata": {},
   "outputs": [],
   "source": []
  },
  {
   "cell_type": "code",
   "execution_count": 277,
   "metadata": {},
   "outputs": [],
   "source": [
    "soup = BeautifulSoup(TorontoPopulation_html, 'html.parser')\n",
    "#print(soup.prettify())"
   ]
  },
  {
   "cell_type": "code",
   "execution_count": 278,
   "metadata": {},
   "outputs": [
    {
     "data": {
      "text/html": [
       "<div>\n",
       "<style scoped>\n",
       "    .dataframe tbody tr th:only-of-type {\n",
       "        vertical-align: middle;\n",
       "    }\n",
       "\n",
       "    .dataframe tbody tr th {\n",
       "        vertical-align: top;\n",
       "    }\n",
       "\n",
       "    .dataframe thead th {\n",
       "        text-align: right;\n",
       "    }\n",
       "</style>\n",
       "<table border=\"1\" class=\"dataframe\">\n",
       "  <thead>\n",
       "    <tr style=\"text-align: right;\">\n",
       "      <th></th>\n",
       "      <th>Name</th>\n",
       "      <th>FM</th>\n",
       "      <th>Census Tracts</th>\n",
       "      <th>Population</th>\n",
       "      <th>Land area (km2)</th>\n",
       "      <th>Density (people/km2)</th>\n",
       "      <th>% Change in Population since 2001</th>\n",
       "      <th>Average Income</th>\n",
       "      <th>Transit Commuting %</th>\n",
       "      <th>% Renters</th>\n",
       "      <th>Second most common language (after English) by name</th>\n",
       "      <th>Second most common language (after English) by percentage</th>\n",
       "      <th>Map</th>\n",
       "    </tr>\n",
       "  </thead>\n",
       "  <tbody>\n",
       "    <tr>\n",
       "      <td>0</td>\n",
       "      <td>Toronto CMA Average</td>\n",
       "      <td>NaN</td>\n",
       "      <td>All</td>\n",
       "      <td>5113149</td>\n",
       "      <td>5903.63</td>\n",
       "      <td>866</td>\n",
       "      <td>9.0</td>\n",
       "      <td>40704</td>\n",
       "      <td>10.6</td>\n",
       "      <td>11.4</td>\n",
       "      <td>NaN</td>\n",
       "      <td>NaN</td>\n",
       "      <td>NaN</td>\n",
       "    </tr>\n",
       "    <tr>\n",
       "      <td>1</td>\n",
       "      <td>Agincourt</td>\n",
       "      <td>S</td>\n",
       "      <td>0377.01, 0377.02, 0377.03, 0377.04, 0378.02, 0...</td>\n",
       "      <td>44577</td>\n",
       "      <td>12.45</td>\n",
       "      <td>3580</td>\n",
       "      <td>4.6</td>\n",
       "      <td>25750</td>\n",
       "      <td>11.1</td>\n",
       "      <td>5.9</td>\n",
       "      <td>Cantonese (19.3%)</td>\n",
       "      <td>19.3% Cantonese</td>\n",
       "      <td>NaN</td>\n",
       "    </tr>\n",
       "    <tr>\n",
       "      <td>2</td>\n",
       "      <td>Alderwood</td>\n",
       "      <td>E</td>\n",
       "      <td>0211.00, 0212.00</td>\n",
       "      <td>11656</td>\n",
       "      <td>4.94</td>\n",
       "      <td>2360</td>\n",
       "      <td>-4.0</td>\n",
       "      <td>35239</td>\n",
       "      <td>8.8</td>\n",
       "      <td>8.5</td>\n",
       "      <td>Polish (6.2%)</td>\n",
       "      <td>06.2% Polish</td>\n",
       "      <td>NaN</td>\n",
       "    </tr>\n",
       "  </tbody>\n",
       "</table>\n",
       "</div>"
      ],
      "text/plain": [
       "                  Name   FM  \\\n",
       "0  Toronto CMA Average  NaN   \n",
       "1            Agincourt    S   \n",
       "2            Alderwood    E   \n",
       "\n",
       "                                       Census Tracts  Population  \\\n",
       "0                                                All     5113149   \n",
       "1  0377.01, 0377.02, 0377.03, 0377.04, 0378.02, 0...       44577   \n",
       "2                                   0211.00, 0212.00       11656   \n",
       "\n",
       "   Land area (km2)  Density (people/km2)  % Change in Population since 2001  \\\n",
       "0          5903.63                   866                                9.0   \n",
       "1            12.45                  3580                                4.6   \n",
       "2             4.94                  2360                               -4.0   \n",
       "\n",
       "   Average Income  Transit Commuting %  % Renters  \\\n",
       "0           40704                 10.6       11.4   \n",
       "1           25750                 11.1        5.9   \n",
       "2           35239                  8.8        8.5   \n",
       "\n",
       "  Second most common language (after English) by name  \\\n",
       "0                                                NaN    \n",
       "1                                  Cantonese (19.3%)    \n",
       "2                                      Polish (6.2%)    \n",
       "\n",
       "  Second most common language (after English) by percentage  Map  \n",
       "0                                                NaN         NaN  \n",
       "1                                    19.3% Cantonese         NaN  \n",
       "2                                       06.2% Polish         NaN  "
      ]
     },
     "execution_count": 278,
     "metadata": {},
     "output_type": "execute_result"
    }
   ],
   "source": [
    "# Getting the required table from the html data\n",
    "#table = soup.find_all('table')[0] # finding the first table in the html\n",
    "table = soup.find_all('table')[1]\n",
    "#table\n",
    "Popu_df = pd.read_html(str(table))[0] # conversion of html to string and then conversion to dataframes\n",
    "Popu_df.head(3)"
   ]
  },
  {
   "cell_type": "code",
   "execution_count": 279,
   "metadata": {},
   "outputs": [
    {
     "data": {
      "text/html": [
       "<div>\n",
       "<style scoped>\n",
       "    .dataframe tbody tr th:only-of-type {\n",
       "        vertical-align: middle;\n",
       "    }\n",
       "\n",
       "    .dataframe tbody tr th {\n",
       "        vertical-align: top;\n",
       "    }\n",
       "\n",
       "    .dataframe thead th {\n",
       "        text-align: right;\n",
       "    }\n",
       "</style>\n",
       "<table border=\"1\" class=\"dataframe\">\n",
       "  <thead>\n",
       "    <tr style=\"text-align: right;\">\n",
       "      <th></th>\n",
       "      <th>Neighbourhood</th>\n",
       "      <th>Population</th>\n",
       "      <th>Density</th>\n",
       "      <th>Avg Income</th>\n",
       "      <th>Transit_Commuting_Percent</th>\n",
       "      <th>Second_Language</th>\n",
       "    </tr>\n",
       "  </thead>\n",
       "  <tbody>\n",
       "    <tr>\n",
       "      <td>0</td>\n",
       "      <td>Toronto CMA Average</td>\n",
       "      <td>5113149</td>\n",
       "      <td>866</td>\n",
       "      <td>40704</td>\n",
       "      <td>10.6</td>\n",
       "      <td>NaN</td>\n",
       "    </tr>\n",
       "    <tr>\n",
       "      <td>1</td>\n",
       "      <td>Agincourt</td>\n",
       "      <td>44577</td>\n",
       "      <td>3580</td>\n",
       "      <td>25750</td>\n",
       "      <td>11.1</td>\n",
       "      <td>19.3% Cantonese</td>\n",
       "    </tr>\n",
       "    <tr>\n",
       "      <td>2</td>\n",
       "      <td>Alderwood</td>\n",
       "      <td>11656</td>\n",
       "      <td>2360</td>\n",
       "      <td>35239</td>\n",
       "      <td>8.8</td>\n",
       "      <td>06.2% Polish</td>\n",
       "    </tr>\n",
       "    <tr>\n",
       "      <td>3</td>\n",
       "      <td>Alexandra Park</td>\n",
       "      <td>4355</td>\n",
       "      <td>13609</td>\n",
       "      <td>19687</td>\n",
       "      <td>13.8</td>\n",
       "      <td>17.9% Cantonese</td>\n",
       "    </tr>\n",
       "    <tr>\n",
       "      <td>4</td>\n",
       "      <td>Allenby</td>\n",
       "      <td>2513</td>\n",
       "      <td>4333</td>\n",
       "      <td>245592</td>\n",
       "      <td>5.2</td>\n",
       "      <td>01.4% Russian</td>\n",
       "    </tr>\n",
       "  </tbody>\n",
       "</table>\n",
       "</div>"
      ],
      "text/plain": [
       "         Neighbourhood  Population  Density  Avg Income  \\\n",
       "0  Toronto CMA Average     5113149      866       40704   \n",
       "1            Agincourt       44577     3580       25750   \n",
       "2            Alderwood       11656     2360       35239   \n",
       "3       Alexandra Park        4355    13609       19687   \n",
       "4              Allenby        2513     4333      245592   \n",
       "\n",
       "   Transit_Commuting_Percent  Second_Language  \n",
       "0                       10.6              NaN  \n",
       "1                       11.1  19.3% Cantonese  \n",
       "2                        8.8     06.2% Polish  \n",
       "3                       13.8  17.9% Cantonese  \n",
       "4                        5.2    01.4% Russian  "
      ]
     },
     "execution_count": 279,
     "metadata": {},
     "output_type": "execute_result"
    }
   ],
   "source": [
    "# Selecting required columns and setting their names for concurrency and ease\n",
    "Popu_Multi = pd.DataFrame(columns = ['Neighbourhood', 'Population', 'Density', 'Avg Income', 'Transit_Commuting_Percent', 'Second_Language'])\n",
    "Popu_Multi[['Neighbourhood', 'Population', 'Density', 'Avg Income', 'Transit_Commuting_Percent', 'Second_Language']] = Popu_df[Popu_df.columns.values[[0,3,5,7,8,11]]]\n",
    "Popu_Multi.head()"
   ]
  },
  {
   "cell_type": "code",
   "execution_count": 280,
   "metadata": {},
   "outputs": [
    {
     "data": {
      "text/html": [
       "<div>\n",
       "<style scoped>\n",
       "    .dataframe tbody tr th:only-of-type {\n",
       "        vertical-align: middle;\n",
       "    }\n",
       "\n",
       "    .dataframe tbody tr th {\n",
       "        vertical-align: top;\n",
       "    }\n",
       "\n",
       "    .dataframe thead th {\n",
       "        text-align: right;\n",
       "    }\n",
       "</style>\n",
       "<table border=\"1\" class=\"dataframe\">\n",
       "  <thead>\n",
       "    <tr style=\"text-align: right;\">\n",
       "      <th></th>\n",
       "      <th>Neighbourhood</th>\n",
       "      <th>Population</th>\n",
       "      <th>Density</th>\n",
       "      <th>Avg Income</th>\n",
       "      <th>Transit_Commuting_Percent</th>\n",
       "      <th>Second_Language</th>\n",
       "    </tr>\n",
       "  </thead>\n",
       "  <tbody>\n",
       "    <tr>\n",
       "      <td>1</td>\n",
       "      <td>Agincourt</td>\n",
       "      <td>44577</td>\n",
       "      <td>3580</td>\n",
       "      <td>25750</td>\n",
       "      <td>11.1</td>\n",
       "      <td>19.3% Cantonese</td>\n",
       "    </tr>\n",
       "    <tr>\n",
       "      <td>2</td>\n",
       "      <td>Alderwood</td>\n",
       "      <td>11656</td>\n",
       "      <td>2360</td>\n",
       "      <td>35239</td>\n",
       "      <td>8.8</td>\n",
       "      <td>06.2% Polish</td>\n",
       "    </tr>\n",
       "    <tr>\n",
       "      <td>3</td>\n",
       "      <td>Alexandra Park</td>\n",
       "      <td>4355</td>\n",
       "      <td>13609</td>\n",
       "      <td>19687</td>\n",
       "      <td>13.8</td>\n",
       "      <td>17.9% Cantonese</td>\n",
       "    </tr>\n",
       "    <tr>\n",
       "      <td>4</td>\n",
       "      <td>Allenby</td>\n",
       "      <td>2513</td>\n",
       "      <td>4333</td>\n",
       "      <td>245592</td>\n",
       "      <td>5.2</td>\n",
       "      <td>01.4% Russian</td>\n",
       "    </tr>\n",
       "    <tr>\n",
       "      <td>5</td>\n",
       "      <td>Amesbury</td>\n",
       "      <td>17318</td>\n",
       "      <td>4934</td>\n",
       "      <td>27546</td>\n",
       "      <td>16.4</td>\n",
       "      <td>06.1% Spanish</td>\n",
       "    </tr>\n",
       "  </tbody>\n",
       "</table>\n",
       "</div>"
      ],
      "text/plain": [
       "    Neighbourhood  Population  Density  Avg Income  Transit_Commuting_Percent  \\\n",
       "1       Agincourt       44577     3580       25750                       11.1   \n",
       "2       Alderwood       11656     2360       35239                        8.8   \n",
       "3  Alexandra Park        4355    13609       19687                       13.8   \n",
       "4         Allenby        2513     4333      245592                        5.2   \n",
       "5        Amesbury       17318     4934       27546                       16.4   \n",
       "\n",
       "   Second_Language  \n",
       "1  19.3% Cantonese  \n",
       "2     06.2% Polish  \n",
       "3  17.9% Cantonese  \n",
       "4    01.4% Russian  \n",
       "5    06.1% Spanish  "
      ]
     },
     "execution_count": 280,
     "metadata": {},
     "output_type": "execute_result"
    }
   ],
   "source": [
    "# Removing first row which is not a neighbourhood\n",
    "Popu_Multi = Popu_Multi.iloc[1:]\n",
    "Popu_Multi.head()"
   ]
  },
  {
   "cell_type": "code",
   "execution_count": 281,
   "metadata": {},
   "outputs": [],
   "source": [
    "Popu_Multi.reset_index(drop=True, inplace=True)"
   ]
  },
  {
   "cell_type": "code",
   "execution_count": 282,
   "metadata": {},
   "outputs": [
    {
     "data": {
      "text/plain": [
       "0       [19.3,  Cantonese]\n",
       "1          [06.2,  Polish]\n",
       "2       [17.9,  Cantonese]\n",
       "3         [01.4,  Russian]\n",
       "4         [06.1,  Spanish]\n",
       "              ...         \n",
       "169      [09.1,  Gujarati]\n",
       "170    [02.7,  Portuguese]\n",
       "171        [04.0,  Korean]\n",
       "172       [06.6,  Italian]\n",
       "173        [01.9,  French]\n",
       "Name: Second_Language, Length: 174, dtype: object"
      ]
     },
     "execution_count": 282,
     "metadata": {},
     "output_type": "execute_result"
    }
   ],
   "source": [
    "# Splitting the column values on the basis of % symbol to seperate percentage and respective population\n",
    "pp = Popu_Multi['Second_Language'].str.split('%')\n",
    "pp"
   ]
  },
  {
   "cell_type": "code",
   "execution_count": 283,
   "metadata": {},
   "outputs": [],
   "source": [
    "Popu_Multi.drop(columns = 'Second_Language', axis=1, inplace = True)"
   ]
  },
  {
   "cell_type": "code",
   "execution_count": 284,
   "metadata": {},
   "outputs": [
    {
     "data": {
      "text/html": [
       "<div>\n",
       "<style scoped>\n",
       "    .dataframe tbody tr th:only-of-type {\n",
       "        vertical-align: middle;\n",
       "    }\n",
       "\n",
       "    .dataframe tbody tr th {\n",
       "        vertical-align: top;\n",
       "    }\n",
       "\n",
       "    .dataframe thead th {\n",
       "        text-align: right;\n",
       "    }\n",
       "</style>\n",
       "<table border=\"1\" class=\"dataframe\">\n",
       "  <thead>\n",
       "    <tr style=\"text-align: right;\">\n",
       "      <th></th>\n",
       "      <th>Neighbourhood</th>\n",
       "      <th>Population</th>\n",
       "      <th>Density</th>\n",
       "      <th>Avg Income</th>\n",
       "      <th>Transit_Commuting_Percent</th>\n",
       "      <th>Second_Language_Percent</th>\n",
       "      <th>Second_Language</th>\n",
       "    </tr>\n",
       "  </thead>\n",
       "  <tbody>\n",
       "    <tr>\n",
       "      <td>0</td>\n",
       "      <td>Agincourt</td>\n",
       "      <td>44577</td>\n",
       "      <td>3580</td>\n",
       "      <td>25750</td>\n",
       "      <td>11.1</td>\n",
       "      <td>19.3</td>\n",
       "      <td>Cantonese</td>\n",
       "    </tr>\n",
       "    <tr>\n",
       "      <td>1</td>\n",
       "      <td>Alderwood</td>\n",
       "      <td>11656</td>\n",
       "      <td>2360</td>\n",
       "      <td>35239</td>\n",
       "      <td>8.8</td>\n",
       "      <td>06.2</td>\n",
       "      <td>Polish</td>\n",
       "    </tr>\n",
       "    <tr>\n",
       "      <td>2</td>\n",
       "      <td>Alexandra Park</td>\n",
       "      <td>4355</td>\n",
       "      <td>13609</td>\n",
       "      <td>19687</td>\n",
       "      <td>13.8</td>\n",
       "      <td>17.9</td>\n",
       "      <td>Cantonese</td>\n",
       "    </tr>\n",
       "    <tr>\n",
       "      <td>3</td>\n",
       "      <td>Allenby</td>\n",
       "      <td>2513</td>\n",
       "      <td>4333</td>\n",
       "      <td>245592</td>\n",
       "      <td>5.2</td>\n",
       "      <td>01.4</td>\n",
       "      <td>Russian</td>\n",
       "    </tr>\n",
       "    <tr>\n",
       "      <td>4</td>\n",
       "      <td>Amesbury</td>\n",
       "      <td>17318</td>\n",
       "      <td>4934</td>\n",
       "      <td>27546</td>\n",
       "      <td>16.4</td>\n",
       "      <td>06.1</td>\n",
       "      <td>Spanish</td>\n",
       "    </tr>\n",
       "  </tbody>\n",
       "</table>\n",
       "</div>"
      ],
      "text/plain": [
       "    Neighbourhood  Population  Density  Avg Income  Transit_Commuting_Percent  \\\n",
       "0       Agincourt       44577     3580       25750                       11.1   \n",
       "1       Alderwood       11656     2360       35239                        8.8   \n",
       "2  Alexandra Park        4355    13609       19687                       13.8   \n",
       "3         Allenby        2513     4333      245592                        5.2   \n",
       "4        Amesbury       17318     4934       27546                       16.4   \n",
       "\n",
       "  Second_Language_Percent Second_Language  \n",
       "0                    19.3       Cantonese  \n",
       "1                    06.2          Polish  \n",
       "2                    17.9       Cantonese  \n",
       "3                    01.4         Russian  \n",
       "4                    06.1         Spanish  "
      ]
     },
     "execution_count": 284,
     "metadata": {},
     "output_type": "execute_result"
    }
   ],
   "source": [
    "Popu_Multi['Second_Language_Percent'] = [t[0] for t in pp]\n",
    "Popu_Multi['Second_Language'] = [t[1].strip() for t in pp]\n",
    "Popu_Multi.head()"
   ]
  },
  {
   "cell_type": "code",
   "execution_count": null,
   "metadata": {},
   "outputs": [],
   "source": []
  },
  {
   "cell_type": "code",
   "execution_count": 285,
   "metadata": {},
   "outputs": [],
   "source": [
    "# Neighbourhood Name seperation from alternate names and/or old names\n",
    "firstname = Popu_Multi['Neighbourhood'].str.split(\"-|–|/|\\(\")\n",
    "Popu_Multi.drop('Neighbourhood', axis=1, inplace=True)\n",
    "Popu_Multi['Neighbourhood'] = [tmp[0].strip() for tmp in firstname]\n"
   ]
  },
  {
   "cell_type": "code",
   "execution_count": 286,
   "metadata": {},
   "outputs": [],
   "source": [
    "Popu_Multi['Neighbourhood'] = Popu_Multi['Neighbourhood'].str.replace('The', '')\n",
    "Popu_Multi['Neighbourhood'] = Popu_Multi['Neighbourhood'].str.replace('North', '')\n",
    "Popu_Multi['Neighbourhood'] = Popu_Multi['Neighbourhood'].str.replace('South', '')\n",
    "Popu_Multi['Neighbourhood'] = Popu_Multi['Neighbourhood'].str.replace('East', '')\n",
    "Popu_Multi['Neighbourhood'] = Popu_Multi['Neighbourhood'].str.replace('West', '')\n",
    "Popu_Multi['Neighbourhood'] = [tmp.strip() for tmp in Popu_Multi['Neighbourhood']]"
   ]
  },
  {
   "cell_type": "code",
   "execution_count": 287,
   "metadata": {},
   "outputs": [
    {
     "data": {
      "text/html": [
       "<div>\n",
       "<style scoped>\n",
       "    .dataframe tbody tr th:only-of-type {\n",
       "        vertical-align: middle;\n",
       "    }\n",
       "\n",
       "    .dataframe tbody tr th {\n",
       "        vertical-align: top;\n",
       "    }\n",
       "\n",
       "    .dataframe thead th {\n",
       "        text-align: right;\n",
       "    }\n",
       "</style>\n",
       "<table border=\"1\" class=\"dataframe\">\n",
       "  <thead>\n",
       "    <tr style=\"text-align: right;\">\n",
       "      <th></th>\n",
       "      <th>Population</th>\n",
       "      <th>Density</th>\n",
       "      <th>Avg Income</th>\n",
       "      <th>Transit_Commuting_Percent</th>\n",
       "      <th>Second_Language_Percent</th>\n",
       "      <th>Second_Language</th>\n",
       "      <th>Neighbourhood</th>\n",
       "    </tr>\n",
       "  </thead>\n",
       "  <tbody>\n",
       "    <tr>\n",
       "      <td>0</td>\n",
       "      <td>44577</td>\n",
       "      <td>3580</td>\n",
       "      <td>25750</td>\n",
       "      <td>11.1</td>\n",
       "      <td>19.3</td>\n",
       "      <td>Cantonese</td>\n",
       "      <td>Agincourt</td>\n",
       "    </tr>\n",
       "    <tr>\n",
       "      <td>1</td>\n",
       "      <td>11656</td>\n",
       "      <td>2360</td>\n",
       "      <td>35239</td>\n",
       "      <td>8.8</td>\n",
       "      <td>06.2</td>\n",
       "      <td>Polish</td>\n",
       "      <td>Alderwood</td>\n",
       "    </tr>\n",
       "    <tr>\n",
       "      <td>2</td>\n",
       "      <td>4355</td>\n",
       "      <td>13609</td>\n",
       "      <td>19687</td>\n",
       "      <td>13.8</td>\n",
       "      <td>17.9</td>\n",
       "      <td>Cantonese</td>\n",
       "      <td>Alexandra Park</td>\n",
       "    </tr>\n",
       "    <tr>\n",
       "      <td>3</td>\n",
       "      <td>2513</td>\n",
       "      <td>4333</td>\n",
       "      <td>245592</td>\n",
       "      <td>5.2</td>\n",
       "      <td>01.4</td>\n",
       "      <td>Russian</td>\n",
       "      <td>Allenby</td>\n",
       "    </tr>\n",
       "    <tr>\n",
       "      <td>4</td>\n",
       "      <td>17318</td>\n",
       "      <td>4934</td>\n",
       "      <td>27546</td>\n",
       "      <td>16.4</td>\n",
       "      <td>06.1</td>\n",
       "      <td>Spanish</td>\n",
       "      <td>Amesbury</td>\n",
       "    </tr>\n",
       "  </tbody>\n",
       "</table>\n",
       "</div>"
      ],
      "text/plain": [
       "   Population  Density  Avg Income  Transit_Commuting_Percent  \\\n",
       "0       44577     3580       25750                       11.1   \n",
       "1       11656     2360       35239                        8.8   \n",
       "2        4355    13609       19687                       13.8   \n",
       "3        2513     4333      245592                        5.2   \n",
       "4       17318     4934       27546                       16.4   \n",
       "\n",
       "  Second_Language_Percent Second_Language   Neighbourhood  \n",
       "0                    19.3       Cantonese       Agincourt  \n",
       "1                    06.2          Polish       Alderwood  \n",
       "2                    17.9       Cantonese  Alexandra Park  \n",
       "3                    01.4         Russian         Allenby  \n",
       "4                    06.1         Spanish        Amesbury  "
      ]
     },
     "execution_count": 287,
     "metadata": {},
     "output_type": "execute_result"
    }
   ],
   "source": [
    "Popu_Multi.head()"
   ]
  },
  {
   "cell_type": "code",
   "execution_count": 288,
   "metadata": {},
   "outputs": [
    {
     "data": {
      "text/plain": [
       "(174, 7)"
      ]
     },
     "execution_count": 288,
     "metadata": {},
     "output_type": "execute_result"
    }
   ],
   "source": [
    "Popu_Multi.shape"
   ]
  },
  {
   "cell_type": "code",
   "execution_count": 289,
   "metadata": {},
   "outputs": [],
   "source": [
    "# setting last column location to first\n",
    "Popu_Multi = Popu_Multi[Popu_Multi.columns[[6,0,1,2,3,4,5]]]"
   ]
  },
  {
   "cell_type": "code",
   "execution_count": 290,
   "metadata": {},
   "outputs": [
    {
     "data": {
      "text/html": [
       "<div>\n",
       "<style scoped>\n",
       "    .dataframe tbody tr th:only-of-type {\n",
       "        vertical-align: middle;\n",
       "    }\n",
       "\n",
       "    .dataframe tbody tr th {\n",
       "        vertical-align: top;\n",
       "    }\n",
       "\n",
       "    .dataframe thead th {\n",
       "        text-align: right;\n",
       "    }\n",
       "</style>\n",
       "<table border=\"1\" class=\"dataframe\">\n",
       "  <thead>\n",
       "    <tr style=\"text-align: right;\">\n",
       "      <th></th>\n",
       "      <th>Neighbourhood</th>\n",
       "      <th>Population</th>\n",
       "      <th>Density</th>\n",
       "      <th>Avg Income</th>\n",
       "      <th>Transit_Commuting_Percent</th>\n",
       "      <th>Second_Language_Percent</th>\n",
       "      <th>Second_Language</th>\n",
       "    </tr>\n",
       "  </thead>\n",
       "  <tbody>\n",
       "    <tr>\n",
       "      <td>0</td>\n",
       "      <td>Agincourt</td>\n",
       "      <td>44577</td>\n",
       "      <td>3580</td>\n",
       "      <td>25750</td>\n",
       "      <td>11.1</td>\n",
       "      <td>19.3</td>\n",
       "      <td>Cantonese</td>\n",
       "    </tr>\n",
       "    <tr>\n",
       "      <td>1</td>\n",
       "      <td>Alderwood</td>\n",
       "      <td>11656</td>\n",
       "      <td>2360</td>\n",
       "      <td>35239</td>\n",
       "      <td>8.8</td>\n",
       "      <td>06.2</td>\n",
       "      <td>Polish</td>\n",
       "    </tr>\n",
       "    <tr>\n",
       "      <td>2</td>\n",
       "      <td>Alexandra Park</td>\n",
       "      <td>4355</td>\n",
       "      <td>13609</td>\n",
       "      <td>19687</td>\n",
       "      <td>13.8</td>\n",
       "      <td>17.9</td>\n",
       "      <td>Cantonese</td>\n",
       "    </tr>\n",
       "    <tr>\n",
       "      <td>3</td>\n",
       "      <td>Allenby</td>\n",
       "      <td>2513</td>\n",
       "      <td>4333</td>\n",
       "      <td>245592</td>\n",
       "      <td>5.2</td>\n",
       "      <td>01.4</td>\n",
       "      <td>Russian</td>\n",
       "    </tr>\n",
       "    <tr>\n",
       "      <td>4</td>\n",
       "      <td>Amesbury</td>\n",
       "      <td>17318</td>\n",
       "      <td>4934</td>\n",
       "      <td>27546</td>\n",
       "      <td>16.4</td>\n",
       "      <td>06.1</td>\n",
       "      <td>Spanish</td>\n",
       "    </tr>\n",
       "  </tbody>\n",
       "</table>\n",
       "</div>"
      ],
      "text/plain": [
       "    Neighbourhood  Population  Density  Avg Income  Transit_Commuting_Percent  \\\n",
       "0       Agincourt       44577     3580       25750                       11.1   \n",
       "1       Alderwood       11656     2360       35239                        8.8   \n",
       "2  Alexandra Park        4355    13609       19687                       13.8   \n",
       "3         Allenby        2513     4333      245592                        5.2   \n",
       "4        Amesbury       17318     4934       27546                       16.4   \n",
       "\n",
       "  Second_Language_Percent Second_Language  \n",
       "0                    19.3       Cantonese  \n",
       "1                    06.2          Polish  \n",
       "2                    17.9       Cantonese  \n",
       "3                    01.4         Russian  \n",
       "4                    06.1         Spanish  "
      ]
     },
     "execution_count": 290,
     "metadata": {},
     "output_type": "execute_result"
    }
   ],
   "source": [
    "Popu_Multi.head()"
   ]
  },
  {
   "cell_type": "code",
   "execution_count": null,
   "metadata": {},
   "outputs": [],
   "source": []
  },
  {
   "cell_type": "code",
   "execution_count": 291,
   "metadata": {},
   "outputs": [
    {
     "data": {
      "text/plain": [
       "Neighbourhood                 object\n",
       "Population                     int64\n",
       "Density                        int64\n",
       "Avg Income                     int64\n",
       "Transit_Commuting_Percent    float64\n",
       "Second_Language_Percent       object\n",
       "Second_Language               object\n",
       "dtype: object"
      ]
     },
     "execution_count": 291,
     "metadata": {},
     "output_type": "execute_result"
    }
   ],
   "source": [
    "Popu_Multi.dtypes"
   ]
  },
  {
   "cell_type": "code",
   "execution_count": 292,
   "metadata": {},
   "outputs": [],
   "source": [
    "# People with Second_Language_Percent in a Neighbourhood should be a floating type value so is converted\n",
    "Popu_Multi['Second_Language_Percent'] = Popu_Multi['Second_Language_Percent'].astype(float)"
   ]
  },
  {
   "cell_type": "code",
   "execution_count": 293,
   "metadata": {},
   "outputs": [
    {
     "data": {
      "text/html": [
       "<div>\n",
       "<style scoped>\n",
       "    .dataframe tbody tr th:only-of-type {\n",
       "        vertical-align: middle;\n",
       "    }\n",
       "\n",
       "    .dataframe tbody tr th {\n",
       "        vertical-align: top;\n",
       "    }\n",
       "\n",
       "    .dataframe thead th {\n",
       "        text-align: right;\n",
       "    }\n",
       "</style>\n",
       "<table border=\"1\" class=\"dataframe\">\n",
       "  <thead>\n",
       "    <tr style=\"text-align: right;\">\n",
       "      <th></th>\n",
       "      <th>Neighbourhood</th>\n",
       "      <th>Population</th>\n",
       "      <th>Density</th>\n",
       "      <th>Avg Income</th>\n",
       "      <th>Transit_Commuting_Percent</th>\n",
       "      <th>Second_Language_Percent</th>\n",
       "      <th>Second_Language</th>\n",
       "    </tr>\n",
       "  </thead>\n",
       "  <tbody>\n",
       "    <tr>\n",
       "      <td>0</td>\n",
       "      <td>Agincourt</td>\n",
       "      <td>44577</td>\n",
       "      <td>3580</td>\n",
       "      <td>25750</td>\n",
       "      <td>11.1</td>\n",
       "      <td>19.3</td>\n",
       "      <td>Cantonese</td>\n",
       "    </tr>\n",
       "    <tr>\n",
       "      <td>1</td>\n",
       "      <td>Alderwood</td>\n",
       "      <td>11656</td>\n",
       "      <td>2360</td>\n",
       "      <td>35239</td>\n",
       "      <td>8.8</td>\n",
       "      <td>6.2</td>\n",
       "      <td>Polish</td>\n",
       "    </tr>\n",
       "    <tr>\n",
       "      <td>2</td>\n",
       "      <td>Alexandra Park</td>\n",
       "      <td>4355</td>\n",
       "      <td>13609</td>\n",
       "      <td>19687</td>\n",
       "      <td>13.8</td>\n",
       "      <td>17.9</td>\n",
       "      <td>Cantonese</td>\n",
       "    </tr>\n",
       "  </tbody>\n",
       "</table>\n",
       "</div>"
      ],
      "text/plain": [
       "    Neighbourhood  Population  Density  Avg Income  Transit_Commuting_Percent  \\\n",
       "0       Agincourt       44577     3580       25750                       11.1   \n",
       "1       Alderwood       11656     2360       35239                        8.8   \n",
       "2  Alexandra Park        4355    13609       19687                       13.8   \n",
       "\n",
       "   Second_Language_Percent Second_Language  \n",
       "0                     19.3       Cantonese  \n",
       "1                      6.2          Polish  \n",
       "2                     17.9       Cantonese  "
      ]
     },
     "execution_count": 293,
     "metadata": {},
     "output_type": "execute_result"
    }
   ],
   "source": [
    "Popu_Multi.head(3)"
   ]
  },
  {
   "cell_type": "code",
   "execution_count": 294,
   "metadata": {},
   "outputs": [
    {
     "data": {
      "text/plain": [
       "Neighbourhood                 object\n",
       "Population                     int64\n",
       "Density                        int64\n",
       "Avg Income                     int64\n",
       "Transit_Commuting_Percent    float64\n",
       "Second_Language_Percent      float64\n",
       "Second_Language               object\n",
       "dtype: object"
      ]
     },
     "execution_count": 294,
     "metadata": {},
     "output_type": "execute_result"
    }
   ],
   "source": [
    "Popu_Multi.dtypes"
   ]
  },
  {
   "cell_type": "code",
   "execution_count": 295,
   "metadata": {},
   "outputs": [],
   "source": [
    "# Converting Values against 'Italian' as Second Language to 1 else 0, to focus on Italian Community\n",
    "\n",
    "for i, elm in enumerate(Popu_Multi['Second_Language']):\n",
    "    if elm != 'Italian': \n",
    "        Popu_Multi['Second_Language_Percent'].loc[i]=0\n",
    "\n",
    "Popu_Multi = Popu_Multi.drop('Second_Language', axis=1)\n"
   ]
  },
  {
   "cell_type": "code",
   "execution_count": 297,
   "metadata": {},
   "outputs": [
    {
     "data": {
      "text/html": [
       "<div>\n",
       "<style scoped>\n",
       "    .dataframe tbody tr th:only-of-type {\n",
       "        vertical-align: middle;\n",
       "    }\n",
       "\n",
       "    .dataframe tbody tr th {\n",
       "        vertical-align: top;\n",
       "    }\n",
       "\n",
       "    .dataframe thead th {\n",
       "        text-align: right;\n",
       "    }\n",
       "</style>\n",
       "<table border=\"1\" class=\"dataframe\">\n",
       "  <thead>\n",
       "    <tr style=\"text-align: right;\">\n",
       "      <th></th>\n",
       "      <th>Neighbourhood</th>\n",
       "      <th>Population</th>\n",
       "      <th>Density</th>\n",
       "      <th>Avg Income</th>\n",
       "      <th>Transit_Commuting_Percent</th>\n",
       "      <th>Second_Language_Percent</th>\n",
       "    </tr>\n",
       "  </thead>\n",
       "  <tbody>\n",
       "    <tr>\n",
       "      <td>0</td>\n",
       "      <td>Agincourt</td>\n",
       "      <td>44577</td>\n",
       "      <td>3580</td>\n",
       "      <td>25750</td>\n",
       "      <td>11.1</td>\n",
       "      <td>0.0</td>\n",
       "    </tr>\n",
       "    <tr>\n",
       "      <td>1</td>\n",
       "      <td>Alderwood</td>\n",
       "      <td>11656</td>\n",
       "      <td>2360</td>\n",
       "      <td>35239</td>\n",
       "      <td>8.8</td>\n",
       "      <td>0.0</td>\n",
       "    </tr>\n",
       "    <tr>\n",
       "      <td>2</td>\n",
       "      <td>Alexandra Park</td>\n",
       "      <td>4355</td>\n",
       "      <td>13609</td>\n",
       "      <td>19687</td>\n",
       "      <td>13.8</td>\n",
       "      <td>0.0</td>\n",
       "    </tr>\n",
       "    <tr>\n",
       "      <td>3</td>\n",
       "      <td>Allenby</td>\n",
       "      <td>2513</td>\n",
       "      <td>4333</td>\n",
       "      <td>245592</td>\n",
       "      <td>5.2</td>\n",
       "      <td>0.0</td>\n",
       "    </tr>\n",
       "    <tr>\n",
       "      <td>4</td>\n",
       "      <td>Amesbury</td>\n",
       "      <td>17318</td>\n",
       "      <td>4934</td>\n",
       "      <td>27546</td>\n",
       "      <td>16.4</td>\n",
       "      <td>0.0</td>\n",
       "    </tr>\n",
       "  </tbody>\n",
       "</table>\n",
       "</div>"
      ],
      "text/plain": [
       "    Neighbourhood  Population  Density  Avg Income  Transit_Commuting_Percent  \\\n",
       "0       Agincourt       44577     3580       25750                       11.1   \n",
       "1       Alderwood       11656     2360       35239                        8.8   \n",
       "2  Alexandra Park        4355    13609       19687                       13.8   \n",
       "3         Allenby        2513     4333      245592                        5.2   \n",
       "4        Amesbury       17318     4934       27546                       16.4   \n",
       "\n",
       "   Second_Language_Percent  \n",
       "0                      0.0  \n",
       "1                      0.0  \n",
       "2                      0.0  \n",
       "3                      0.0  \n",
       "4                      0.0  "
      ]
     },
     "execution_count": 297,
     "metadata": {},
     "output_type": "execute_result"
    }
   ],
   "source": [
    "Popu_Multi.head()"
   ]
  },
  {
   "cell_type": "code",
   "execution_count": null,
   "metadata": {},
   "outputs": [],
   "source": []
  },
  {
   "cell_type": "code",
   "execution_count": null,
   "metadata": {},
   "outputs": [],
   "source": []
  },
  {
   "cell_type": "code",
   "execution_count": null,
   "metadata": {},
   "outputs": [],
   "source": []
  },
  {
   "cell_type": "code",
   "execution_count": null,
   "metadata": {},
   "outputs": [],
   "source": []
  },
  {
   "cell_type": "code",
   "execution_count": null,
   "metadata": {},
   "outputs": [],
   "source": []
  },
  {
   "cell_type": "code",
   "execution_count": 298,
   "metadata": {},
   "outputs": [],
   "source": [
    "Popu_Multi.to_csv('CS_Population_Multiple_Data.csv', index=False)"
   ]
  },
  {
   "cell_type": "code",
   "execution_count": null,
   "metadata": {},
   "outputs": [],
   "source": []
  },
  {
   "cell_type": "code",
   "execution_count": null,
   "metadata": {},
   "outputs": [],
   "source": []
  }
 ],
 "metadata": {
  "kernelspec": {
   "display_name": "Python",
   "language": "python",
   "name": "conda-env-python-py"
  },
  "language_info": {
   "codemirror_mode": {
    "name": "ipython",
    "version": 3
   },
   "file_extension": ".py",
   "mimetype": "text/x-python",
   "name": "python",
   "nbconvert_exporter": "python",
   "pygments_lexer": "ipython3",
   "version": "3.6.7"
  }
 },
 "nbformat": 4,
 "nbformat_minor": 4
}
